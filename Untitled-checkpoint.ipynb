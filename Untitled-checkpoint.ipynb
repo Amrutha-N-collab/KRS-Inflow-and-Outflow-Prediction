{
 "cells": [
  {
   "cell_type": "code",
   "execution_count": 146,
   "id": "90204ea2",
   "metadata": {},
   "outputs": [],
   "source": [
    "# Import necessary libraries\n",
    "import pandas as pd\n",
    "import numpy as np\n",
    "from sklearn.model_selection import train_test_split\n",
    "from sklearn.ensemble import GradientBoostingRegressor\n",
    "from sklearn.metrics import mean_squared_error, mean_absolute_error, r2_score\n",
    "import pickle"
   ]
  },
  {
   "cell_type": "code",
   "execution_count": 147,
   "id": "852abe87",
   "metadata": {},
   "outputs": [],
   "source": [
    "df = pd.read_excel('ksrdata.xlsx')"
   ]
  },
  {
   "cell_type": "code",
   "execution_count": 148,
   "id": "296719a0",
   "metadata": {},
   "outputs": [],
   "source": [
    "# Feature selection (replace with your actual feature columns)\n",
    "features = ['PRESENT_STORAGE_TMC', 'RESERVOIR_LEVEL_FT', 'Seasons1']\n",
    "target_inflow = 'INFLOW_CUSECS'   # Replace with your actual inflow target column\n",
    "target_outflow = 'OUTFLOW_CUSECS' # Replace with your actual outflow target column"
   ]
  },
  {
   "cell_type": "code",
   "execution_count": 149,
   "id": "81a9be19",
   "metadata": {},
   "outputs": [],
   "source": [
    "# Split the dataset into input features (X) and output target (y)\n",
    "X = df[features]"
   ]
  },
  {
   "cell_type": "code",
   "execution_count": 150,
   "id": "c705664f",
   "metadata": {},
   "outputs": [],
   "source": [
    "# For inflow prediction\n",
    "y_inflow = df[target_inflow]"
   ]
  },
  {
   "cell_type": "code",
   "execution_count": 151,
   "id": "79426a33",
   "metadata": {},
   "outputs": [],
   "source": [
    "# For outflow prediction\n",
    "y_outflow = df[target_outflow]"
   ]
  },
  {
   "cell_type": "code",
   "execution_count": 152,
   "id": "8bf1d8de",
   "metadata": {},
   "outputs": [],
   "source": [
    "# Split the data into training and test sets for inflow\n",
    "X_train_inflow, X_test_inflow, y_train_inflow, y_test_inflow = train_test_split(X, y_inflow, test_size=0.2, random_state=42)\n",
    "\n",
    "# Split the data into training and test sets for outflow\n",
    "X_train_outflow, X_test_outflow, y_train_outflow, y_test_outflow = train_test_split(X, y_outflow, test_size=0.2, random_state=42)"
   ]
  },
  {
   "cell_type": "code",
   "execution_count": 153,
   "id": "1a998652",
   "metadata": {},
   "outputs": [],
   "source": [
    "# Initialize the Gradient Boosting Regressor model\n",
    "gbr_inflow = GradientBoostingRegressor(n_estimators=100, learning_rate=0.1, max_depth=3, random_state=42)\n",
    "gbr_outflow = GradientBoostingRegressor(n_estimators=100, learning_rate=0.1, max_depth=3, random_state=42)"
   ]
  },
  {
   "cell_type": "code",
   "execution_count": 154,
   "id": "0ab12d29",
   "metadata": {},
   "outputs": [
    {
     "data": {
      "text/html": [
       "<style>#sk-container-id-15 {color: black;}#sk-container-id-15 pre{padding: 0;}#sk-container-id-15 div.sk-toggleable {background-color: white;}#sk-container-id-15 label.sk-toggleable__label {cursor: pointer;display: block;width: 100%;margin-bottom: 0;padding: 0.3em;box-sizing: border-box;text-align: center;}#sk-container-id-15 label.sk-toggleable__label-arrow:before {content: \"▸\";float: left;margin-right: 0.25em;color: #696969;}#sk-container-id-15 label.sk-toggleable__label-arrow:hover:before {color: black;}#sk-container-id-15 div.sk-estimator:hover label.sk-toggleable__label-arrow:before {color: black;}#sk-container-id-15 div.sk-toggleable__content {max-height: 0;max-width: 0;overflow: hidden;text-align: left;background-color: #f0f8ff;}#sk-container-id-15 div.sk-toggleable__content pre {margin: 0.2em;color: black;border-radius: 0.25em;background-color: #f0f8ff;}#sk-container-id-15 input.sk-toggleable__control:checked~div.sk-toggleable__content {max-height: 200px;max-width: 100%;overflow: auto;}#sk-container-id-15 input.sk-toggleable__control:checked~label.sk-toggleable__label-arrow:before {content: \"▾\";}#sk-container-id-15 div.sk-estimator input.sk-toggleable__control:checked~label.sk-toggleable__label {background-color: #d4ebff;}#sk-container-id-15 div.sk-label input.sk-toggleable__control:checked~label.sk-toggleable__label {background-color: #d4ebff;}#sk-container-id-15 input.sk-hidden--visually {border: 0;clip: rect(1px 1px 1px 1px);clip: rect(1px, 1px, 1px, 1px);height: 1px;margin: -1px;overflow: hidden;padding: 0;position: absolute;width: 1px;}#sk-container-id-15 div.sk-estimator {font-family: monospace;background-color: #f0f8ff;border: 1px dotted black;border-radius: 0.25em;box-sizing: border-box;margin-bottom: 0.5em;}#sk-container-id-15 div.sk-estimator:hover {background-color: #d4ebff;}#sk-container-id-15 div.sk-parallel-item::after {content: \"\";width: 100%;border-bottom: 1px solid gray;flex-grow: 1;}#sk-container-id-15 div.sk-label:hover label.sk-toggleable__label {background-color: #d4ebff;}#sk-container-id-15 div.sk-serial::before {content: \"\";position: absolute;border-left: 1px solid gray;box-sizing: border-box;top: 0;bottom: 0;left: 50%;z-index: 0;}#sk-container-id-15 div.sk-serial {display: flex;flex-direction: column;align-items: center;background-color: white;padding-right: 0.2em;padding-left: 0.2em;position: relative;}#sk-container-id-15 div.sk-item {position: relative;z-index: 1;}#sk-container-id-15 div.sk-parallel {display: flex;align-items: stretch;justify-content: center;background-color: white;position: relative;}#sk-container-id-15 div.sk-item::before, #sk-container-id-15 div.sk-parallel-item::before {content: \"\";position: absolute;border-left: 1px solid gray;box-sizing: border-box;top: 0;bottom: 0;left: 50%;z-index: -1;}#sk-container-id-15 div.sk-parallel-item {display: flex;flex-direction: column;z-index: 1;position: relative;background-color: white;}#sk-container-id-15 div.sk-parallel-item:first-child::after {align-self: flex-end;width: 50%;}#sk-container-id-15 div.sk-parallel-item:last-child::after {align-self: flex-start;width: 50%;}#sk-container-id-15 div.sk-parallel-item:only-child::after {width: 0;}#sk-container-id-15 div.sk-dashed-wrapped {border: 1px dashed gray;margin: 0 0.4em 0.5em 0.4em;box-sizing: border-box;padding-bottom: 0.4em;background-color: white;}#sk-container-id-15 div.sk-label label {font-family: monospace;font-weight: bold;display: inline-block;line-height: 1.2em;}#sk-container-id-15 div.sk-label-container {text-align: center;}#sk-container-id-15 div.sk-container {/* jupyter's `normalize.less` sets `[hidden] { display: none; }` but bootstrap.min.css set `[hidden] { display: none !important; }` so we also need the `!important` here to be able to override the default hidden behavior on the sphinx rendered scikit-learn.org. See: https://github.com/scikit-learn/scikit-learn/issues/21755 */display: inline-block !important;position: relative;}#sk-container-id-15 div.sk-text-repr-fallback {display: none;}</style><div id=\"sk-container-id-15\" class=\"sk-top-container\"><div class=\"sk-text-repr-fallback\"><pre>GradientBoostingRegressor(random_state=42)</pre><b>In a Jupyter environment, please rerun this cell to show the HTML representation or trust the notebook. <br />On GitHub, the HTML representation is unable to render, please try loading this page with nbviewer.org.</b></div><div class=\"sk-container\" hidden><div class=\"sk-item\"><div class=\"sk-estimator sk-toggleable\"><input class=\"sk-toggleable__control sk-hidden--visually\" id=\"sk-estimator-id-15\" type=\"checkbox\" checked><label for=\"sk-estimator-id-15\" class=\"sk-toggleable__label sk-toggleable__label-arrow\">GradientBoostingRegressor</label><div class=\"sk-toggleable__content\"><pre>GradientBoostingRegressor(random_state=42)</pre></div></div></div></div></div>"
      ],
      "text/plain": [
       "GradientBoostingRegressor(random_state=42)"
      ]
     },
     "execution_count": 154,
     "metadata": {},
     "output_type": "execute_result"
    }
   ],
   "source": [
    "# Train the model for inflow prediction\n",
    "gbr_inflow.fit(X_train_inflow, y_train_inflow)"
   ]
  },
  {
   "cell_type": "code",
   "execution_count": 155,
   "id": "18e1cbec",
   "metadata": {},
   "outputs": [
    {
     "data": {
      "text/html": [
       "<style>#sk-container-id-16 {color: black;}#sk-container-id-16 pre{padding: 0;}#sk-container-id-16 div.sk-toggleable {background-color: white;}#sk-container-id-16 label.sk-toggleable__label {cursor: pointer;display: block;width: 100%;margin-bottom: 0;padding: 0.3em;box-sizing: border-box;text-align: center;}#sk-container-id-16 label.sk-toggleable__label-arrow:before {content: \"▸\";float: left;margin-right: 0.25em;color: #696969;}#sk-container-id-16 label.sk-toggleable__label-arrow:hover:before {color: black;}#sk-container-id-16 div.sk-estimator:hover label.sk-toggleable__label-arrow:before {color: black;}#sk-container-id-16 div.sk-toggleable__content {max-height: 0;max-width: 0;overflow: hidden;text-align: left;background-color: #f0f8ff;}#sk-container-id-16 div.sk-toggleable__content pre {margin: 0.2em;color: black;border-radius: 0.25em;background-color: #f0f8ff;}#sk-container-id-16 input.sk-toggleable__control:checked~div.sk-toggleable__content {max-height: 200px;max-width: 100%;overflow: auto;}#sk-container-id-16 input.sk-toggleable__control:checked~label.sk-toggleable__label-arrow:before {content: \"▾\";}#sk-container-id-16 div.sk-estimator input.sk-toggleable__control:checked~label.sk-toggleable__label {background-color: #d4ebff;}#sk-container-id-16 div.sk-label input.sk-toggleable__control:checked~label.sk-toggleable__label {background-color: #d4ebff;}#sk-container-id-16 input.sk-hidden--visually {border: 0;clip: rect(1px 1px 1px 1px);clip: rect(1px, 1px, 1px, 1px);height: 1px;margin: -1px;overflow: hidden;padding: 0;position: absolute;width: 1px;}#sk-container-id-16 div.sk-estimator {font-family: monospace;background-color: #f0f8ff;border: 1px dotted black;border-radius: 0.25em;box-sizing: border-box;margin-bottom: 0.5em;}#sk-container-id-16 div.sk-estimator:hover {background-color: #d4ebff;}#sk-container-id-16 div.sk-parallel-item::after {content: \"\";width: 100%;border-bottom: 1px solid gray;flex-grow: 1;}#sk-container-id-16 div.sk-label:hover label.sk-toggleable__label {background-color: #d4ebff;}#sk-container-id-16 div.sk-serial::before {content: \"\";position: absolute;border-left: 1px solid gray;box-sizing: border-box;top: 0;bottom: 0;left: 50%;z-index: 0;}#sk-container-id-16 div.sk-serial {display: flex;flex-direction: column;align-items: center;background-color: white;padding-right: 0.2em;padding-left: 0.2em;position: relative;}#sk-container-id-16 div.sk-item {position: relative;z-index: 1;}#sk-container-id-16 div.sk-parallel {display: flex;align-items: stretch;justify-content: center;background-color: white;position: relative;}#sk-container-id-16 div.sk-item::before, #sk-container-id-16 div.sk-parallel-item::before {content: \"\";position: absolute;border-left: 1px solid gray;box-sizing: border-box;top: 0;bottom: 0;left: 50%;z-index: -1;}#sk-container-id-16 div.sk-parallel-item {display: flex;flex-direction: column;z-index: 1;position: relative;background-color: white;}#sk-container-id-16 div.sk-parallel-item:first-child::after {align-self: flex-end;width: 50%;}#sk-container-id-16 div.sk-parallel-item:last-child::after {align-self: flex-start;width: 50%;}#sk-container-id-16 div.sk-parallel-item:only-child::after {width: 0;}#sk-container-id-16 div.sk-dashed-wrapped {border: 1px dashed gray;margin: 0 0.4em 0.5em 0.4em;box-sizing: border-box;padding-bottom: 0.4em;background-color: white;}#sk-container-id-16 div.sk-label label {font-family: monospace;font-weight: bold;display: inline-block;line-height: 1.2em;}#sk-container-id-16 div.sk-label-container {text-align: center;}#sk-container-id-16 div.sk-container {/* jupyter's `normalize.less` sets `[hidden] { display: none; }` but bootstrap.min.css set `[hidden] { display: none !important; }` so we also need the `!important` here to be able to override the default hidden behavior on the sphinx rendered scikit-learn.org. See: https://github.com/scikit-learn/scikit-learn/issues/21755 */display: inline-block !important;position: relative;}#sk-container-id-16 div.sk-text-repr-fallback {display: none;}</style><div id=\"sk-container-id-16\" class=\"sk-top-container\"><div class=\"sk-text-repr-fallback\"><pre>GradientBoostingRegressor(random_state=42)</pre><b>In a Jupyter environment, please rerun this cell to show the HTML representation or trust the notebook. <br />On GitHub, the HTML representation is unable to render, please try loading this page with nbviewer.org.</b></div><div class=\"sk-container\" hidden><div class=\"sk-item\"><div class=\"sk-estimator sk-toggleable\"><input class=\"sk-toggleable__control sk-hidden--visually\" id=\"sk-estimator-id-16\" type=\"checkbox\" checked><label for=\"sk-estimator-id-16\" class=\"sk-toggleable__label sk-toggleable__label-arrow\">GradientBoostingRegressor</label><div class=\"sk-toggleable__content\"><pre>GradientBoostingRegressor(random_state=42)</pre></div></div></div></div></div>"
      ],
      "text/plain": [
       "GradientBoostingRegressor(random_state=42)"
      ]
     },
     "execution_count": 155,
     "metadata": {},
     "output_type": "execute_result"
    }
   ],
   "source": [
    "# Train the model for outflow prediction\n",
    "gbr_outflow.fit(X_train_outflow, y_train_outflow)"
   ]
  },
  {
   "cell_type": "code",
   "execution_count": 156,
   "id": "69d47d76",
   "metadata": {},
   "outputs": [],
   "source": [
    "# Make predictions on the test set for inflow\n",
    "y_pred_inflow = gbr_inflow.predict(X_test_inflow)\n",
    "\n",
    "# Make predictions on the test set for outflow\n",
    "y_pred_outflow = gbr_outflow.predict(X_test_outflow)"
   ]
  },
  {
   "cell_type": "code",
   "execution_count": 157,
   "id": "b1a8f4e8",
   "metadata": {},
   "outputs": [],
   "source": [
    "# Calculate the mean of the predicted inflow and outflow rates\n",
    "final_inflow = np.mean(y_pred_inflow)\n",
    "final_outflow = np.mean(y_pred_outflow)"
   ]
  },
  {
   "cell_type": "code",
   "execution_count": 158,
   "id": "a59391df",
   "metadata": {},
   "outputs": [
    {
     "name": "stdout",
     "output_type": "stream",
     "text": [
      "Final Predicted Inflow Rate (in cusecs): 5073.65\n",
      "Final Predicted Outflow Rate (in cusecs): 4828.34\n"
     ]
    }
   ],
   "source": [
    "# Print the final inflow and outflow rates\n",
    "print(f\"Final Predicted Inflow Rate (in cusecs): {final_inflow:.2f}\")\n",
    "print(f\"Final Predicted Outflow Rate (in cusecs): {final_outflow:.2f}\")"
   ]
  },
  {
   "cell_type": "code",
   "execution_count": 159,
   "id": "5255c823",
   "metadata": {},
   "outputs": [],
   "source": [
    "# Evaluate the model performance for inflow\n",
    "mse_inflow = mean_squared_error(y_test_inflow, y_pred_inflow)\n",
    "mae_inflow = mean_absolute_error(y_test_inflow, y_pred_inflow)\n",
    "r2_inflow = r2_score(y_test_inflow, y_pred_inflow)\n",
    "\n",
    "# Evaluate the model performance for outflow\n",
    "mse_outflow = mean_squared_error(y_test_outflow, y_pred_outflow)\n",
    "mae_outflow = mean_absolute_error(y_test_outflow, y_pred_outflow)\n",
    "r2_outflow = r2_score(y_test_outflow, y_pred_outflow)"
   ]
  },
  {
   "cell_type": "code",
   "execution_count": 160,
   "id": "b6aad87b",
   "metadata": {},
   "outputs": [
    {
     "name": "stdout",
     "output_type": "stream",
     "text": [
      "Inflow Prediction - MSE: 51901052.12018839, MAE: 3135.0919560400457, R²: 0.25524293389615327\n",
      "Outflow Prediction - MSE: 50918868.54388314, MAE: 3074.662104932885, R²: 0.24597164691396234\n"
     ]
    }
   ],
   "source": [
    "# Print evaluation metrics for inflow\n",
    "print(f\"Inflow Prediction - MSE: {mse_inflow}, MAE: {mae_inflow}, R²: {r2_inflow}\")\n",
    "\n",
    "# Print evaluation metrics for outflow\n",
    "print(f\"Outflow Prediction - MSE: {mse_outflow}, MAE: {mae_outflow}, R²: {r2_outflow}\")"
   ]
  },
  {
   "cell_type": "code",
   "execution_count": 161,
   "id": "ba11ccb5",
   "metadata": {},
   "outputs": [],
   "source": [
    "from sklearn.metrics import accuracy_score, precision_score, recall_score, f1_score, confusion_matrix\n",
    "import numpy as np\n",
    "\n",
    "\n",
    "# Define a threshold to convert continuous predictions to binary classes\n",
    "#default threshold is 0.5\n",
    "threshold = 0.5\n",
    "\n",
    "# Convert predictions to binary classes\n",
    "y_test_inflow_class = (y_test_inflow > threshold).astype(int)\n",
    "y_test_outflow_class = (y_test_outflow > threshold).astype(int)\n",
    "pred_inflow_class = (y_pred_inflow > threshold).astype(int)\n",
    "pred_outflow_class = (y_pred_outflow > threshold).astype(int)\n"
   ]
  },
  {
   "cell_type": "code",
   "execution_count": 162,
   "id": "206c51ef",
   "metadata": {},
   "outputs": [],
   "source": [
    "# For inflow\n",
    "accuracy_inflow = accuracy_score(y_test_inflow_class, pred_inflow_class)\n",
    "precision_inflow = precision_score(y_test_inflow_class, pred_inflow_class)\n",
    "recall_inflow = recall_score(y_test_inflow_class, pred_inflow_class)\n",
    "f1_inflow = f1_score(y_test_inflow_class, pred_inflow_class)\n",
    "confusion_matrix_inflow = confusion_matrix(y_test_inflow_class, pred_inflow_class)\n",
    "\n",
    "# Convert R² score to percentage\n",
    "accuracy_inflow = r2_inflow * 100\n",
    "\n",
    "# For outflow\n",
    "accuracy_outflow = accuracy_score(y_test_outflow_class, pred_outflow_class)\n",
    "precision_outflow = precision_score(y_test_outflow_class, pred_outflow_class)\n",
    "recall_outflow = recall_score(y_test_outflow_class, pred_outflow_class)\n",
    "f1_outflow = f1_score(y_test_outflow_class, pred_outflow_class)\n",
    "confusion_matrix_outflow = confusion_matrix(y_test_outflow_class, pred_outflow_class)\n",
    "\n",
    "# Convert R² score to percentage\n",
    "accuracy_outflow = r2_outflow * 100\n"
   ]
  },
  {
   "cell_type": "code",
   "execution_count": 163,
   "id": "5ea93be2",
   "metadata": {},
   "outputs": [
    {
     "name": "stdout",
     "output_type": "stream",
     "text": [
      "Inflow - Accuracy: 25.5243\n",
      "Inflow - Precision: 1.0000\n",
      "Inflow - Recall: 0.9985\n",
      "Inflow - F1 Score: 0.9992\n",
      "Inflow - Confusion Matrix:\n",
      "[[  0   0]\n",
      " [  1 662]]\n",
      "Outflow - Accuracy: 24.5972\n",
      "Outflow - Precision: 0.9970\n",
      "Outflow - Recall: 1.0000\n",
      "Outflow - F1 Score: 0.9985\n",
      "Outflow - Confusion Matrix:\n",
      "[[  0   2]\n",
      " [  0 661]]\n"
     ]
    }
   ],
   "source": [
    "# Print metrics for inflow\n",
    "print(f\"Inflow - Accuracy: {accuracy_inflow:.4f}\")\n",
    "print(f\"Inflow - Precision: {precision_inflow:.4f}\")\n",
    "print(f\"Inflow - Recall: {recall_inflow:.4f}\")\n",
    "print(f\"Inflow - F1 Score: {f1_inflow:.4f}\")\n",
    "print(\"Inflow - Confusion Matrix:\")\n",
    "print(confusion_matrix_inflow)\n",
    "\n",
    "# Print metrics for outflow\n",
    "print(f\"Outflow - Accuracy: {accuracy_outflow:.4f}\")\n",
    "print(f\"Outflow - Precision: {precision_outflow:.4f}\")\n",
    "print(f\"Outflow - Recall: {recall_outflow:.4f}\")\n",
    "print(f\"Outflow - F1 Score: {f1_outflow:.4f}\")\n",
    "print(\"Outflow - Confusion Matrix:\")\n",
    "print(confusion_matrix_outflow)"
   ]
  },
  {
   "cell_type": "code",
   "execution_count": 164,
   "id": "083c70e8",
   "metadata": {},
   "outputs": [
    {
     "name": "stdout",
     "output_type": "stream",
     "text": [
      "Inflow Prediction Accuracy: 25.52%\n",
      "Outflow Prediction Accuracy: 24.60%\n"
     ]
    }
   ],
   "source": [
    "# Print the accuracy in percentage\n",
    "print(f\"Inflow Prediction Accuracy: {accuracy_inflow:.2f}%\")\n",
    "print(f\"Outflow Prediction Accuracy: {accuracy_outflow:.2f}%\")"
   ]
  },
  {
   "cell_type": "code",
   "execution_count": 165,
   "id": "6a7171e1",
   "metadata": {},
   "outputs": [
    {
     "name": "stdout",
     "output_type": "stream",
     "text": [
      "Inflow Prediction - MSE: 51901052.12018839, MAE: 3135.0919560400457, R²: 0.25524293389615327\n",
      "Outflow Prediction - MSE: 50918868.54388314, MAE: 3074.662104932885, R²: 0.24597164691396234\n"
     ]
    }
   ],
   "source": [
    "# Print evaluation metrics for inflow\n",
    "print(f\"Inflow Prediction - MSE: {mse_inflow}, MAE: {mae_inflow}, R²: {r2_inflow}\")\n",
    "\n",
    "# Print evaluation metrics for outflow\n",
    "print(f\"Outflow Prediction - MSE: {mse_outflow}, MAE: {mae_outflow}, R²: {r2_outflow}\")"
   ]
  },
  {
   "cell_type": "code",
   "execution_count": 166,
   "id": "481911f3",
   "metadata": {},
   "outputs": [],
   "source": [
    "# Save the trained models as .pkl files for later use\n",
    "with open('gbr_inflow_model.pkl', 'wb') as inflow_model_file1:\n",
    "    pickle.dump(gbr_inflow, inflow_model_file1)"
   ]
  },
  {
   "cell_type": "code",
   "execution_count": 167,
   "id": "e7966dad",
   "metadata": {},
   "outputs": [
    {
     "name": "stdout",
     "output_type": "stream",
     "text": [
      "<class 'sklearn.ensemble._gb.GradientBoostingRegressor'>\n"
     ]
    }
   ],
   "source": [
    "print(type(gbr_inflow)) "
   ]
  },
  {
   "cell_type": "code",
   "execution_count": 168,
   "id": "a29436af",
   "metadata": {},
   "outputs": [],
   "source": [
    "with open('gbr_outflow_model.pkl', 'wb') as outflow_model_file2:\n",
    "    pickle.dump(gbr_outflow, outflow_model_file2)"
   ]
  },
  {
   "cell_type": "code",
   "execution_count": 169,
   "id": "72b9befc",
   "metadata": {},
   "outputs": [
    {
     "name": "stdout",
     "output_type": "stream",
     "text": [
      "<class 'sklearn.ensemble._gb.GradientBoostingRegressor'>\n"
     ]
    }
   ],
   "source": [
    "print(type(gbr_outflow)) "
   ]
  },
  {
   "cell_type": "code",
   "execution_count": 170,
   "id": "425c89f8",
   "metadata": {},
   "outputs": [],
   "source": [
    "from sklearn.svm import SVR\n",
    "# Split the data into training and test sets for inflow\n",
    "X_train_inflow, X_test_inflow, y_train_inflow, y_test_inflow = train_test_split(X, y_inflow, test_size=0.2, random_state=42)\n",
    "\n",
    "# Split the data into training and test sets for outflow\n",
    "X_train_outflow, X_test_outflow, y_train_outflow, y_test_outflow = train_test_split(X, y_outflow, test_size=0.2, random_state=42)"
   ]
  },
  {
   "cell_type": "code",
   "execution_count": 171,
   "id": "8abe78e2",
   "metadata": {},
   "outputs": [],
   "source": [
    "# Initialize the SVR model\n",
    "svr_inflow = SVR(kernel='rbf', C=100, gamma='auto')\n",
    "svr_outflow = SVR(kernel='rbf', C=100, gamma='auto')"
   ]
  },
  {
   "cell_type": "code",
   "execution_count": 172,
   "id": "d92f2c76",
   "metadata": {},
   "outputs": [
    {
     "data": {
      "text/html": [
       "<style>#sk-container-id-17 {color: black;}#sk-container-id-17 pre{padding: 0;}#sk-container-id-17 div.sk-toggleable {background-color: white;}#sk-container-id-17 label.sk-toggleable__label {cursor: pointer;display: block;width: 100%;margin-bottom: 0;padding: 0.3em;box-sizing: border-box;text-align: center;}#sk-container-id-17 label.sk-toggleable__label-arrow:before {content: \"▸\";float: left;margin-right: 0.25em;color: #696969;}#sk-container-id-17 label.sk-toggleable__label-arrow:hover:before {color: black;}#sk-container-id-17 div.sk-estimator:hover label.sk-toggleable__label-arrow:before {color: black;}#sk-container-id-17 div.sk-toggleable__content {max-height: 0;max-width: 0;overflow: hidden;text-align: left;background-color: #f0f8ff;}#sk-container-id-17 div.sk-toggleable__content pre {margin: 0.2em;color: black;border-radius: 0.25em;background-color: #f0f8ff;}#sk-container-id-17 input.sk-toggleable__control:checked~div.sk-toggleable__content {max-height: 200px;max-width: 100%;overflow: auto;}#sk-container-id-17 input.sk-toggleable__control:checked~label.sk-toggleable__label-arrow:before {content: \"▾\";}#sk-container-id-17 div.sk-estimator input.sk-toggleable__control:checked~label.sk-toggleable__label {background-color: #d4ebff;}#sk-container-id-17 div.sk-label input.sk-toggleable__control:checked~label.sk-toggleable__label {background-color: #d4ebff;}#sk-container-id-17 input.sk-hidden--visually {border: 0;clip: rect(1px 1px 1px 1px);clip: rect(1px, 1px, 1px, 1px);height: 1px;margin: -1px;overflow: hidden;padding: 0;position: absolute;width: 1px;}#sk-container-id-17 div.sk-estimator {font-family: monospace;background-color: #f0f8ff;border: 1px dotted black;border-radius: 0.25em;box-sizing: border-box;margin-bottom: 0.5em;}#sk-container-id-17 div.sk-estimator:hover {background-color: #d4ebff;}#sk-container-id-17 div.sk-parallel-item::after {content: \"\";width: 100%;border-bottom: 1px solid gray;flex-grow: 1;}#sk-container-id-17 div.sk-label:hover label.sk-toggleable__label {background-color: #d4ebff;}#sk-container-id-17 div.sk-serial::before {content: \"\";position: absolute;border-left: 1px solid gray;box-sizing: border-box;top: 0;bottom: 0;left: 50%;z-index: 0;}#sk-container-id-17 div.sk-serial {display: flex;flex-direction: column;align-items: center;background-color: white;padding-right: 0.2em;padding-left: 0.2em;position: relative;}#sk-container-id-17 div.sk-item {position: relative;z-index: 1;}#sk-container-id-17 div.sk-parallel {display: flex;align-items: stretch;justify-content: center;background-color: white;position: relative;}#sk-container-id-17 div.sk-item::before, #sk-container-id-17 div.sk-parallel-item::before {content: \"\";position: absolute;border-left: 1px solid gray;box-sizing: border-box;top: 0;bottom: 0;left: 50%;z-index: -1;}#sk-container-id-17 div.sk-parallel-item {display: flex;flex-direction: column;z-index: 1;position: relative;background-color: white;}#sk-container-id-17 div.sk-parallel-item:first-child::after {align-self: flex-end;width: 50%;}#sk-container-id-17 div.sk-parallel-item:last-child::after {align-self: flex-start;width: 50%;}#sk-container-id-17 div.sk-parallel-item:only-child::after {width: 0;}#sk-container-id-17 div.sk-dashed-wrapped {border: 1px dashed gray;margin: 0 0.4em 0.5em 0.4em;box-sizing: border-box;padding-bottom: 0.4em;background-color: white;}#sk-container-id-17 div.sk-label label {font-family: monospace;font-weight: bold;display: inline-block;line-height: 1.2em;}#sk-container-id-17 div.sk-label-container {text-align: center;}#sk-container-id-17 div.sk-container {/* jupyter's `normalize.less` sets `[hidden] { display: none; }` but bootstrap.min.css set `[hidden] { display: none !important; }` so we also need the `!important` here to be able to override the default hidden behavior on the sphinx rendered scikit-learn.org. See: https://github.com/scikit-learn/scikit-learn/issues/21755 */display: inline-block !important;position: relative;}#sk-container-id-17 div.sk-text-repr-fallback {display: none;}</style><div id=\"sk-container-id-17\" class=\"sk-top-container\"><div class=\"sk-text-repr-fallback\"><pre>SVR(C=100, gamma=&#x27;auto&#x27;)</pre><b>In a Jupyter environment, please rerun this cell to show the HTML representation or trust the notebook. <br />On GitHub, the HTML representation is unable to render, please try loading this page with nbviewer.org.</b></div><div class=\"sk-container\" hidden><div class=\"sk-item\"><div class=\"sk-estimator sk-toggleable\"><input class=\"sk-toggleable__control sk-hidden--visually\" id=\"sk-estimator-id-17\" type=\"checkbox\" checked><label for=\"sk-estimator-id-17\" class=\"sk-toggleable__label sk-toggleable__label-arrow\">SVR</label><div class=\"sk-toggleable__content\"><pre>SVR(C=100, gamma=&#x27;auto&#x27;)</pre></div></div></div></div></div>"
      ],
      "text/plain": [
       "SVR(C=100, gamma='auto')"
      ]
     },
     "execution_count": 172,
     "metadata": {},
     "output_type": "execute_result"
    }
   ],
   "source": [
    "# Train the model for inflow prediction\n",
    "svr_inflow.fit(X_train_inflow, y_train_inflow)"
   ]
  },
  {
   "cell_type": "code",
   "execution_count": 173,
   "id": "5701fe70",
   "metadata": {},
   "outputs": [
    {
     "data": {
      "text/html": [
       "<style>#sk-container-id-18 {color: black;}#sk-container-id-18 pre{padding: 0;}#sk-container-id-18 div.sk-toggleable {background-color: white;}#sk-container-id-18 label.sk-toggleable__label {cursor: pointer;display: block;width: 100%;margin-bottom: 0;padding: 0.3em;box-sizing: border-box;text-align: center;}#sk-container-id-18 label.sk-toggleable__label-arrow:before {content: \"▸\";float: left;margin-right: 0.25em;color: #696969;}#sk-container-id-18 label.sk-toggleable__label-arrow:hover:before {color: black;}#sk-container-id-18 div.sk-estimator:hover label.sk-toggleable__label-arrow:before {color: black;}#sk-container-id-18 div.sk-toggleable__content {max-height: 0;max-width: 0;overflow: hidden;text-align: left;background-color: #f0f8ff;}#sk-container-id-18 div.sk-toggleable__content pre {margin: 0.2em;color: black;border-radius: 0.25em;background-color: #f0f8ff;}#sk-container-id-18 input.sk-toggleable__control:checked~div.sk-toggleable__content {max-height: 200px;max-width: 100%;overflow: auto;}#sk-container-id-18 input.sk-toggleable__control:checked~label.sk-toggleable__label-arrow:before {content: \"▾\";}#sk-container-id-18 div.sk-estimator input.sk-toggleable__control:checked~label.sk-toggleable__label {background-color: #d4ebff;}#sk-container-id-18 div.sk-label input.sk-toggleable__control:checked~label.sk-toggleable__label {background-color: #d4ebff;}#sk-container-id-18 input.sk-hidden--visually {border: 0;clip: rect(1px 1px 1px 1px);clip: rect(1px, 1px, 1px, 1px);height: 1px;margin: -1px;overflow: hidden;padding: 0;position: absolute;width: 1px;}#sk-container-id-18 div.sk-estimator {font-family: monospace;background-color: #f0f8ff;border: 1px dotted black;border-radius: 0.25em;box-sizing: border-box;margin-bottom: 0.5em;}#sk-container-id-18 div.sk-estimator:hover {background-color: #d4ebff;}#sk-container-id-18 div.sk-parallel-item::after {content: \"\";width: 100%;border-bottom: 1px solid gray;flex-grow: 1;}#sk-container-id-18 div.sk-label:hover label.sk-toggleable__label {background-color: #d4ebff;}#sk-container-id-18 div.sk-serial::before {content: \"\";position: absolute;border-left: 1px solid gray;box-sizing: border-box;top: 0;bottom: 0;left: 50%;z-index: 0;}#sk-container-id-18 div.sk-serial {display: flex;flex-direction: column;align-items: center;background-color: white;padding-right: 0.2em;padding-left: 0.2em;position: relative;}#sk-container-id-18 div.sk-item {position: relative;z-index: 1;}#sk-container-id-18 div.sk-parallel {display: flex;align-items: stretch;justify-content: center;background-color: white;position: relative;}#sk-container-id-18 div.sk-item::before, #sk-container-id-18 div.sk-parallel-item::before {content: \"\";position: absolute;border-left: 1px solid gray;box-sizing: border-box;top: 0;bottom: 0;left: 50%;z-index: -1;}#sk-container-id-18 div.sk-parallel-item {display: flex;flex-direction: column;z-index: 1;position: relative;background-color: white;}#sk-container-id-18 div.sk-parallel-item:first-child::after {align-self: flex-end;width: 50%;}#sk-container-id-18 div.sk-parallel-item:last-child::after {align-self: flex-start;width: 50%;}#sk-container-id-18 div.sk-parallel-item:only-child::after {width: 0;}#sk-container-id-18 div.sk-dashed-wrapped {border: 1px dashed gray;margin: 0 0.4em 0.5em 0.4em;box-sizing: border-box;padding-bottom: 0.4em;background-color: white;}#sk-container-id-18 div.sk-label label {font-family: monospace;font-weight: bold;display: inline-block;line-height: 1.2em;}#sk-container-id-18 div.sk-label-container {text-align: center;}#sk-container-id-18 div.sk-container {/* jupyter's `normalize.less` sets `[hidden] { display: none; }` but bootstrap.min.css set `[hidden] { display: none !important; }` so we also need the `!important` here to be able to override the default hidden behavior on the sphinx rendered scikit-learn.org. See: https://github.com/scikit-learn/scikit-learn/issues/21755 */display: inline-block !important;position: relative;}#sk-container-id-18 div.sk-text-repr-fallback {display: none;}</style><div id=\"sk-container-id-18\" class=\"sk-top-container\"><div class=\"sk-text-repr-fallback\"><pre>SVR(C=100, gamma=&#x27;auto&#x27;)</pre><b>In a Jupyter environment, please rerun this cell to show the HTML representation or trust the notebook. <br />On GitHub, the HTML representation is unable to render, please try loading this page with nbviewer.org.</b></div><div class=\"sk-container\" hidden><div class=\"sk-item\"><div class=\"sk-estimator sk-toggleable\"><input class=\"sk-toggleable__control sk-hidden--visually\" id=\"sk-estimator-id-18\" type=\"checkbox\" checked><label for=\"sk-estimator-id-18\" class=\"sk-toggleable__label sk-toggleable__label-arrow\">SVR</label><div class=\"sk-toggleable__content\"><pre>SVR(C=100, gamma=&#x27;auto&#x27;)</pre></div></div></div></div></div>"
      ],
      "text/plain": [
       "SVR(C=100, gamma='auto')"
      ]
     },
     "execution_count": 173,
     "metadata": {},
     "output_type": "execute_result"
    }
   ],
   "source": [
    "# Train the model for outflow prediction\n",
    "svr_outflow.fit(X_train_outflow, y_train_outflow)"
   ]
  },
  {
   "cell_type": "code",
   "execution_count": 174,
   "id": "e724c972",
   "metadata": {},
   "outputs": [],
   "source": [
    "# Make predictions on the test set for inflow\n",
    "y_pred_inflow = svr_inflow.predict(X_test_inflow)\n",
    "\n",
    "# Make predictions on the test set for outflow\n",
    "y_pred_outflow = svr_outflow.predict(X_test_outflow)"
   ]
  },
  {
   "cell_type": "code",
   "execution_count": 175,
   "id": "7c594720",
   "metadata": {},
   "outputs": [],
   "source": [
    "# Evaluate the model performance for inflow\n",
    "mse_inflow = mean_squared_error(y_test_inflow, y_pred_inflow)\n",
    "mae_inflow = mean_absolute_error(y_test_inflow, y_pred_inflow)\n",
    "r2_inflow = r2_score(y_test_inflow, y_pred_inflow)\n",
    "\n",
    "# Evaluate the model performance for outflow\n",
    "mse_outflow = mean_squared_error(y_test_outflow, y_pred_outflow)\n",
    "mae_outflow = mean_absolute_error(y_test_outflow, y_pred_outflow)\n",
    "r2_outflow = r2_score(y_test_outflow, y_pred_outflow)"
   ]
  },
  {
   "cell_type": "code",
   "execution_count": 176,
   "id": "3c74d27d",
   "metadata": {},
   "outputs": [
    {
     "name": "stdout",
     "output_type": "stream",
     "text": [
      "Inflow Prediction - MSE: 64599723.56812435, MAE: 3321.642483046926, R²: 0.07302263383208718\n",
      "Outflow Prediction - MSE: 61068128.52995364, MAE: 2854.3063323786223, R²: 0.09567707024356031\n"
     ]
    }
   ],
   "source": [
    "# Print evaluation metrics for inflow\n",
    "print(f\"Inflow Prediction - MSE: {mse_inflow}, MAE: {mae_inflow}, R²: {r2_inflow}\")\n",
    "\n",
    "# Print evaluation metrics for outflow\n",
    "print(f\"Outflow Prediction - MSE: {mse_outflow}, MAE: {mae_outflow}, R²: {r2_outflow}\")"
   ]
  },
  {
   "cell_type": "code",
   "execution_count": 177,
   "id": "ddf0304d",
   "metadata": {},
   "outputs": [],
   "source": [
    "# For inflow\n",
    "accuracy_inflow = accuracy_score(y_test_inflow_class, pred_inflow_class)\n",
    "precision_inflow = precision_score(y_test_inflow_class, pred_inflow_class)\n",
    "recall_inflow = recall_score(y_test_inflow_class, pred_inflow_class)\n",
    "f1_inflow = f1_score(y_test_inflow_class, pred_inflow_class)\n",
    "confusion_matrix_inflow = confusion_matrix(y_test_inflow_class, pred_inflow_class)\n",
    "\n",
    "# Convert R² score to percentage\n",
    "accuracy_inflow = r2_inflow * 100\n",
    "\n",
    "# For outflow\n",
    "accuracy_outflow = accuracy_score(y_test_outflow_class, pred_outflow_class)\n",
    "precision_outflow = precision_score(y_test_outflow_class, pred_outflow_class)\n",
    "recall_outflow = recall_score(y_test_outflow_class, pred_outflow_class)\n",
    "f1_outflow = f1_score(y_test_outflow_class, pred_outflow_class)\n",
    "confusion_matrix_outflow = confusion_matrix(y_test_outflow_class, pred_outflow_class)\n",
    "\n",
    "# Convert R² score to percentage\n",
    "accuracy_outflow = r2_outflow * 100\n"
   ]
  },
  {
   "cell_type": "code",
   "execution_count": 62,
   "id": "d0ed6597",
   "metadata": {},
   "outputs": [
    {
     "name": "stdout",
     "output_type": "stream",
     "text": [
      "Inflow - Accuracy: 7.3023\n",
      "Inflow - Precision: 1.0000\n",
      "Inflow - Recall: 1.0000\n",
      "Inflow - F1 Score: 1.0000\n",
      "Inflow - Confusion Matrix:\n",
      "[[663]]\n",
      "Outflow - Accuracy: 9.5677\n",
      "Outflow - Precision: 0.9970\n",
      "Outflow - Recall: 1.0000\n",
      "Outflow - F1 Score: 0.9985\n",
      "Outflow - Confusion Matrix:\n",
      "[[  0   2]\n",
      " [  0 661]]\n",
      "Inflow Prediction Accuracy: 7.30%\n",
      "Outflow Prediction Accuracy: 9.57%\n"
     ]
    }
   ],
   "source": [
    "# Print metrics for inflow\n",
    "print(f\"Inflow - Accuracy: {accuracy_inflow:.4f}\")\n",
    "print(f\"Inflow - Precision: {precision_inflow:.4f}\")\n",
    "print(f\"Inflow - Recall: {recall_inflow:.4f}\")\n",
    "print(f\"Inflow - F1 Score: {f1_inflow:.4f}\")\n",
    "print(\"Inflow - Confusion Matrix:\")\n",
    "print(confusion_matrix_inflow)\n",
    "\n",
    "# Print metrics for outflow\n",
    "print(f\"Outflow - Accuracy: {accuracy_outflow:.4f}\")\n",
    "print(f\"Outflow - Precision: {precision_outflow:.4f}\")\n",
    "print(f\"Outflow - Recall: {recall_outflow:.4f}\")\n",
    "print(f\"Outflow - F1 Score: {f1_outflow:.4f}\")\n",
    "print(\"Outflow - Confusion Matrix:\")\n",
    "print(confusion_matrix_outflow)\n",
    "\n"
   ]
  },
  {
   "cell_type": "code",
   "execution_count": 178,
   "id": "6970ede3",
   "metadata": {},
   "outputs": [
    {
     "name": "stdout",
     "output_type": "stream",
     "text": [
      "Inflow Prediction Accuracy: 7.30%\n",
      "Outflow Prediction Accuracy: 9.57%\n"
     ]
    }
   ],
   "source": [
    "# Print the accuracy in percentage\n",
    "print(f\"Inflow Prediction Accuracy: {accuracy_inflow:.2f}%\")\n",
    "print(f\"Outflow Prediction Accuracy: {accuracy_outflow:.2f}%\")"
   ]
  },
  {
   "cell_type": "code",
   "execution_count": 179,
   "id": "0b2cbc4a",
   "metadata": {},
   "outputs": [],
   "source": [
    "# Save the trained models as .pkl files for later use\n",
    "with open('svr_inflow_model.pkl', 'wb') as inflow_model_file3:\n",
    "    pickle.dump(svr_inflow, inflow_model_file3)"
   ]
  },
  {
   "cell_type": "code",
   "execution_count": 180,
   "id": "68de6655",
   "metadata": {},
   "outputs": [
    {
     "name": "stdout",
     "output_type": "stream",
     "text": [
      "<class 'sklearn.svm._classes.SVR'>\n"
     ]
    }
   ],
   "source": [
    "print(type(svr_outflow)) "
   ]
  },
  {
   "cell_type": "code",
   "execution_count": 181,
   "id": "2ffa1c28",
   "metadata": {},
   "outputs": [],
   "source": [
    "with open('svr_outflow_model.pkl', 'wb') as outflow_model_file4:\n",
    "    pickle.dump(svr_outflow, outflow_model_file4)"
   ]
  },
  {
   "cell_type": "code",
   "execution_count": 182,
   "id": "deaaa35a",
   "metadata": {},
   "outputs": [
    {
     "name": "stdout",
     "output_type": "stream",
     "text": [
      "<class 'sklearn.svm._classes.SVR'>\n"
     ]
    }
   ],
   "source": [
    "print(type(svr_inflow)) "
   ]
  },
  {
   "cell_type": "code",
   "execution_count": 183,
   "id": "89365f69",
   "metadata": {},
   "outputs": [],
   "source": [
    "from sklearn.ensemble import RandomForestRegressor"
   ]
  },
  {
   "cell_type": "code",
   "execution_count": 184,
   "id": "df0743e1",
   "metadata": {},
   "outputs": [
    {
     "data": {
      "text/html": [
       "<style>#sk-container-id-19 {color: black;}#sk-container-id-19 pre{padding: 0;}#sk-container-id-19 div.sk-toggleable {background-color: white;}#sk-container-id-19 label.sk-toggleable__label {cursor: pointer;display: block;width: 100%;margin-bottom: 0;padding: 0.3em;box-sizing: border-box;text-align: center;}#sk-container-id-19 label.sk-toggleable__label-arrow:before {content: \"▸\";float: left;margin-right: 0.25em;color: #696969;}#sk-container-id-19 label.sk-toggleable__label-arrow:hover:before {color: black;}#sk-container-id-19 div.sk-estimator:hover label.sk-toggleable__label-arrow:before {color: black;}#sk-container-id-19 div.sk-toggleable__content {max-height: 0;max-width: 0;overflow: hidden;text-align: left;background-color: #f0f8ff;}#sk-container-id-19 div.sk-toggleable__content pre {margin: 0.2em;color: black;border-radius: 0.25em;background-color: #f0f8ff;}#sk-container-id-19 input.sk-toggleable__control:checked~div.sk-toggleable__content {max-height: 200px;max-width: 100%;overflow: auto;}#sk-container-id-19 input.sk-toggleable__control:checked~label.sk-toggleable__label-arrow:before {content: \"▾\";}#sk-container-id-19 div.sk-estimator input.sk-toggleable__control:checked~label.sk-toggleable__label {background-color: #d4ebff;}#sk-container-id-19 div.sk-label input.sk-toggleable__control:checked~label.sk-toggleable__label {background-color: #d4ebff;}#sk-container-id-19 input.sk-hidden--visually {border: 0;clip: rect(1px 1px 1px 1px);clip: rect(1px, 1px, 1px, 1px);height: 1px;margin: -1px;overflow: hidden;padding: 0;position: absolute;width: 1px;}#sk-container-id-19 div.sk-estimator {font-family: monospace;background-color: #f0f8ff;border: 1px dotted black;border-radius: 0.25em;box-sizing: border-box;margin-bottom: 0.5em;}#sk-container-id-19 div.sk-estimator:hover {background-color: #d4ebff;}#sk-container-id-19 div.sk-parallel-item::after {content: \"\";width: 100%;border-bottom: 1px solid gray;flex-grow: 1;}#sk-container-id-19 div.sk-label:hover label.sk-toggleable__label {background-color: #d4ebff;}#sk-container-id-19 div.sk-serial::before {content: \"\";position: absolute;border-left: 1px solid gray;box-sizing: border-box;top: 0;bottom: 0;left: 50%;z-index: 0;}#sk-container-id-19 div.sk-serial {display: flex;flex-direction: column;align-items: center;background-color: white;padding-right: 0.2em;padding-left: 0.2em;position: relative;}#sk-container-id-19 div.sk-item {position: relative;z-index: 1;}#sk-container-id-19 div.sk-parallel {display: flex;align-items: stretch;justify-content: center;background-color: white;position: relative;}#sk-container-id-19 div.sk-item::before, #sk-container-id-19 div.sk-parallel-item::before {content: \"\";position: absolute;border-left: 1px solid gray;box-sizing: border-box;top: 0;bottom: 0;left: 50%;z-index: -1;}#sk-container-id-19 div.sk-parallel-item {display: flex;flex-direction: column;z-index: 1;position: relative;background-color: white;}#sk-container-id-19 div.sk-parallel-item:first-child::after {align-self: flex-end;width: 50%;}#sk-container-id-19 div.sk-parallel-item:last-child::after {align-self: flex-start;width: 50%;}#sk-container-id-19 div.sk-parallel-item:only-child::after {width: 0;}#sk-container-id-19 div.sk-dashed-wrapped {border: 1px dashed gray;margin: 0 0.4em 0.5em 0.4em;box-sizing: border-box;padding-bottom: 0.4em;background-color: white;}#sk-container-id-19 div.sk-label label {font-family: monospace;font-weight: bold;display: inline-block;line-height: 1.2em;}#sk-container-id-19 div.sk-label-container {text-align: center;}#sk-container-id-19 div.sk-container {/* jupyter's `normalize.less` sets `[hidden] { display: none; }` but bootstrap.min.css set `[hidden] { display: none !important; }` so we also need the `!important` here to be able to override the default hidden behavior on the sphinx rendered scikit-learn.org. See: https://github.com/scikit-learn/scikit-learn/issues/21755 */display: inline-block !important;position: relative;}#sk-container-id-19 div.sk-text-repr-fallback {display: none;}</style><div id=\"sk-container-id-19\" class=\"sk-top-container\"><div class=\"sk-text-repr-fallback\"><pre>RandomForestRegressor(random_state=42)</pre><b>In a Jupyter environment, please rerun this cell to show the HTML representation or trust the notebook. <br />On GitHub, the HTML representation is unable to render, please try loading this page with nbviewer.org.</b></div><div class=\"sk-container\" hidden><div class=\"sk-item\"><div class=\"sk-estimator sk-toggleable\"><input class=\"sk-toggleable__control sk-hidden--visually\" id=\"sk-estimator-id-19\" type=\"checkbox\" checked><label for=\"sk-estimator-id-19\" class=\"sk-toggleable__label sk-toggleable__label-arrow\">RandomForestRegressor</label><div class=\"sk-toggleable__content\"><pre>RandomForestRegressor(random_state=42)</pre></div></div></div></div></div>"
      ],
      "text/plain": [
       "RandomForestRegressor(random_state=42)"
      ]
     },
     "execution_count": 184,
     "metadata": {},
     "output_type": "execute_result"
    }
   ],
   "source": [
    "rf_inflow = RandomForestRegressor(n_estimators=100, random_state=42)\n",
    "rf_inflow.fit(X_train_inflow, y_train_inflow)"
   ]
  },
  {
   "cell_type": "code",
   "execution_count": 185,
   "id": "facbe5f9",
   "metadata": {},
   "outputs": [
    {
     "data": {
      "text/html": [
       "<style>#sk-container-id-20 {color: black;}#sk-container-id-20 pre{padding: 0;}#sk-container-id-20 div.sk-toggleable {background-color: white;}#sk-container-id-20 label.sk-toggleable__label {cursor: pointer;display: block;width: 100%;margin-bottom: 0;padding: 0.3em;box-sizing: border-box;text-align: center;}#sk-container-id-20 label.sk-toggleable__label-arrow:before {content: \"▸\";float: left;margin-right: 0.25em;color: #696969;}#sk-container-id-20 label.sk-toggleable__label-arrow:hover:before {color: black;}#sk-container-id-20 div.sk-estimator:hover label.sk-toggleable__label-arrow:before {color: black;}#sk-container-id-20 div.sk-toggleable__content {max-height: 0;max-width: 0;overflow: hidden;text-align: left;background-color: #f0f8ff;}#sk-container-id-20 div.sk-toggleable__content pre {margin: 0.2em;color: black;border-radius: 0.25em;background-color: #f0f8ff;}#sk-container-id-20 input.sk-toggleable__control:checked~div.sk-toggleable__content {max-height: 200px;max-width: 100%;overflow: auto;}#sk-container-id-20 input.sk-toggleable__control:checked~label.sk-toggleable__label-arrow:before {content: \"▾\";}#sk-container-id-20 div.sk-estimator input.sk-toggleable__control:checked~label.sk-toggleable__label {background-color: #d4ebff;}#sk-container-id-20 div.sk-label input.sk-toggleable__control:checked~label.sk-toggleable__label {background-color: #d4ebff;}#sk-container-id-20 input.sk-hidden--visually {border: 0;clip: rect(1px 1px 1px 1px);clip: rect(1px, 1px, 1px, 1px);height: 1px;margin: -1px;overflow: hidden;padding: 0;position: absolute;width: 1px;}#sk-container-id-20 div.sk-estimator {font-family: monospace;background-color: #f0f8ff;border: 1px dotted black;border-radius: 0.25em;box-sizing: border-box;margin-bottom: 0.5em;}#sk-container-id-20 div.sk-estimator:hover {background-color: #d4ebff;}#sk-container-id-20 div.sk-parallel-item::after {content: \"\";width: 100%;border-bottom: 1px solid gray;flex-grow: 1;}#sk-container-id-20 div.sk-label:hover label.sk-toggleable__label {background-color: #d4ebff;}#sk-container-id-20 div.sk-serial::before {content: \"\";position: absolute;border-left: 1px solid gray;box-sizing: border-box;top: 0;bottom: 0;left: 50%;z-index: 0;}#sk-container-id-20 div.sk-serial {display: flex;flex-direction: column;align-items: center;background-color: white;padding-right: 0.2em;padding-left: 0.2em;position: relative;}#sk-container-id-20 div.sk-item {position: relative;z-index: 1;}#sk-container-id-20 div.sk-parallel {display: flex;align-items: stretch;justify-content: center;background-color: white;position: relative;}#sk-container-id-20 div.sk-item::before, #sk-container-id-20 div.sk-parallel-item::before {content: \"\";position: absolute;border-left: 1px solid gray;box-sizing: border-box;top: 0;bottom: 0;left: 50%;z-index: -1;}#sk-container-id-20 div.sk-parallel-item {display: flex;flex-direction: column;z-index: 1;position: relative;background-color: white;}#sk-container-id-20 div.sk-parallel-item:first-child::after {align-self: flex-end;width: 50%;}#sk-container-id-20 div.sk-parallel-item:last-child::after {align-self: flex-start;width: 50%;}#sk-container-id-20 div.sk-parallel-item:only-child::after {width: 0;}#sk-container-id-20 div.sk-dashed-wrapped {border: 1px dashed gray;margin: 0 0.4em 0.5em 0.4em;box-sizing: border-box;padding-bottom: 0.4em;background-color: white;}#sk-container-id-20 div.sk-label label {font-family: monospace;font-weight: bold;display: inline-block;line-height: 1.2em;}#sk-container-id-20 div.sk-label-container {text-align: center;}#sk-container-id-20 div.sk-container {/* jupyter's `normalize.less` sets `[hidden] { display: none; }` but bootstrap.min.css set `[hidden] { display: none !important; }` so we also need the `!important` here to be able to override the default hidden behavior on the sphinx rendered scikit-learn.org. See: https://github.com/scikit-learn/scikit-learn/issues/21755 */display: inline-block !important;position: relative;}#sk-container-id-20 div.sk-text-repr-fallback {display: none;}</style><div id=\"sk-container-id-20\" class=\"sk-top-container\"><div class=\"sk-text-repr-fallback\"><pre>RandomForestRegressor(random_state=42)</pre><b>In a Jupyter environment, please rerun this cell to show the HTML representation or trust the notebook. <br />On GitHub, the HTML representation is unable to render, please try loading this page with nbviewer.org.</b></div><div class=\"sk-container\" hidden><div class=\"sk-item\"><div class=\"sk-estimator sk-toggleable\"><input class=\"sk-toggleable__control sk-hidden--visually\" id=\"sk-estimator-id-20\" type=\"checkbox\" checked><label for=\"sk-estimator-id-20\" class=\"sk-toggleable__label sk-toggleable__label-arrow\">RandomForestRegressor</label><div class=\"sk-toggleable__content\"><pre>RandomForestRegressor(random_state=42)</pre></div></div></div></div></div>"
      ],
      "text/plain": [
       "RandomForestRegressor(random_state=42)"
      ]
     },
     "execution_count": 185,
     "metadata": {},
     "output_type": "execute_result"
    }
   ],
   "source": [
    "rf_outflow = RandomForestRegressor(n_estimators=100, random_state=42)\n",
    "rf_outflow.fit(X_train_outflow, y_train_outflow)"
   ]
  },
  {
   "cell_type": "code",
   "execution_count": 186,
   "id": "5c528aca",
   "metadata": {},
   "outputs": [],
   "source": [
    "# Make predictions on the test set for inflow\n",
    "y_pred_inflow = rf_inflow.predict(X_test_inflow)\n",
    "\n",
    "# Make predictions on the test set for outflow\n",
    "y_pred_outflow = rf_outflow.predict(X_test_outflow)"
   ]
  },
  {
   "cell_type": "code",
   "execution_count": 187,
   "id": "69b85260",
   "metadata": {},
   "outputs": [],
   "source": [
    "# Evaluate the model performance for inflow\n",
    "mse_inflow = mean_squared_error(y_test_inflow, y_pred_inflow)\n",
    "mae_inflow = mean_absolute_error(y_test_inflow, y_pred_inflow)\n",
    "r2_inflow = r2_score(y_test_inflow, y_pred_inflow)\n",
    "\n",
    "# Evaluate the model performance for outflow\n",
    "mse_outflow = mean_squared_error(y_test_outflow, y_pred_outflow)\n",
    "mae_outflow = mean_absolute_error(y_test_outflow, y_pred_outflow)\n",
    "r2_outflow = r2_score(y_test_outflow, y_pred_outflow)"
   ]
  },
  {
   "cell_type": "code",
   "execution_count": 188,
   "id": "119b47b0",
   "metadata": {},
   "outputs": [
    {
     "name": "stdout",
     "output_type": "stream",
     "text": [
      "Inflow Prediction - MSE: 59325053.821309775, MAE: 3341.37424013019, R²: 0.14871180399009054\n",
      "Outflow Prediction - MSE: 68571246.69068722, MAE: 3117.2470524495166, R²: -0.015432308097634628\n"
     ]
    }
   ],
   "source": [
    "# Print evaluation metrics for inflow\n",
    "print(f\"Inflow Prediction - MSE: {mse_inflow}, MAE: {mae_inflow}, R²: {r2_inflow}\")\n",
    "\n",
    "# Print evaluation metrics for outflow\n",
    "print(f\"Outflow Prediction - MSE: {mse_outflow}, MAE: {mae_outflow}, R²: {r2_outflow}\")"
   ]
  },
  {
   "cell_type": "code",
   "execution_count": 189,
   "id": "6b9c1230",
   "metadata": {},
   "outputs": [],
   "source": [
    "# For inflow\n",
    "accuracy_inflow = accuracy_score(y_test_inflow_class, pred_inflow_class)\n",
    "precision_inflow = precision_score(y_test_inflow_class, pred_inflow_class)\n",
    "recall_inflow = recall_score(y_test_inflow_class, pred_inflow_class)\n",
    "f1_inflow = f1_score(y_test_inflow_class, pred_inflow_class)\n",
    "confusion_matrix_inflow = confusion_matrix(y_test_inflow_class, pred_inflow_class)\n",
    "\n",
    "# Convert R² score to percentage\n",
    "accuracy_inflow = r2_inflow * 100\n",
    "\n",
    "# For outflow\n",
    "accuracy_outflow = accuracy_score(y_test_outflow_class, pred_outflow_class)\n",
    "precision_outflow = precision_score(y_test_outflow_class, pred_outflow_class)\n",
    "recall_outflow = recall_score(y_test_outflow_class, pred_outflow_class)\n",
    "f1_outflow = f1_score(y_test_outflow_class, pred_outflow_class)\n",
    "confusion_matrix_outflow = confusion_matrix(y_test_outflow_class, pred_outflow_class)\n",
    "\n",
    "# Convert R² score to percentage\n",
    "accuracy_outflow = r2_outflow * 100\n"
   ]
  },
  {
   "cell_type": "code",
   "execution_count": 190,
   "id": "ca874722",
   "metadata": {},
   "outputs": [
    {
     "name": "stdout",
     "output_type": "stream",
     "text": [
      "Inflow - Accuracy: 14.8712\n",
      "Inflow - Precision: 1.0000\n",
      "Inflow - Recall: 0.9985\n",
      "Inflow - F1 Score: 0.9992\n",
      "Inflow - Confusion Matrix:\n",
      "[[  0   0]\n",
      " [  1 662]]\n",
      "Outflow - Accuracy: -1.5432\n",
      "Outflow - Precision: 0.9970\n",
      "Outflow - Recall: 1.0000\n",
      "Outflow - F1 Score: 0.9985\n",
      "Outflow - Confusion Matrix:\n",
      "[[  0   2]\n",
      " [  0 661]]\n"
     ]
    }
   ],
   "source": [
    "# Print metrics for inflow\n",
    "print(f\"Inflow - Accuracy: {accuracy_inflow:.4f}\")\n",
    "print(f\"Inflow - Precision: {precision_inflow:.4f}\")\n",
    "print(f\"Inflow - Recall: {recall_inflow:.4f}\")\n",
    "print(f\"Inflow - F1 Score: {f1_inflow:.4f}\")\n",
    "print(\"Inflow - Confusion Matrix:\")\n",
    "print(confusion_matrix_inflow)\n",
    "\n",
    "# Print metrics for outflow\n",
    "print(f\"Outflow - Accuracy: {accuracy_outflow:.4f}\")\n",
    "print(f\"Outflow - Precision: {precision_outflow:.4f}\")\n",
    "print(f\"Outflow - Recall: {recall_outflow:.4f}\")\n",
    "print(f\"Outflow - F1 Score: {f1_outflow:.4f}\")\n",
    "print(\"Outflow - Confusion Matrix:\")\n",
    "print(confusion_matrix_outflow)\n",
    "\n"
   ]
  },
  {
   "cell_type": "code",
   "execution_count": 191,
   "id": "b133719e",
   "metadata": {},
   "outputs": [
    {
     "name": "stdout",
     "output_type": "stream",
     "text": [
      "Inflow Prediction Accuracy: 14.87%\n",
      "Outflow Prediction Accuracy: -1.54%\n"
     ]
    }
   ],
   "source": [
    "# Print the accuracy in percentage\n",
    "print(f\"Inflow Prediction Accuracy: {accuracy_inflow:.2f}%\")\n",
    "print(f\"Outflow Prediction Accuracy: {accuracy_outflow:.2f}%\")"
   ]
  },
  {
   "cell_type": "code",
   "execution_count": 192,
   "id": "cc62e036",
   "metadata": {},
   "outputs": [
    {
     "name": "stdout",
     "output_type": "stream",
     "text": [
      "Inflow Prediction - MSE: 59325053.821309775, MAE: 3341.37424013019, R²: 0.14871180399009054\n",
      "Outflow Prediction - MSE: 68571246.69068722, MAE: 3117.2470524495166, R²: -0.015432308097634628\n"
     ]
    }
   ],
   "source": [
    "# Print evaluation metrics for inflow\n",
    "print(f\"Inflow Prediction - MSE: {mse_inflow}, MAE: {mae_inflow}, R²: {r2_inflow}\")\n",
    "\n",
    "# Print evaluation metrics for outflow\n",
    "print(f\"Outflow Prediction - MSE: {mse_outflow}, MAE: {mae_outflow}, R²: {r2_outflow}\")"
   ]
  },
  {
   "cell_type": "code",
   "execution_count": 193,
   "id": "8de5e6fa",
   "metadata": {},
   "outputs": [],
   "source": [
    "# Save the trained models as .pkl files for later use\n",
    "with open('rf_inflow_model.pkl', 'wb') as inflow_model_file5:\n",
    "    pickle.dump(rf_inflow, inflow_model_file5)"
   ]
  },
  {
   "cell_type": "code",
   "execution_count": 194,
   "id": "d5000e0f",
   "metadata": {},
   "outputs": [
    {
     "name": "stdout",
     "output_type": "stream",
     "text": [
      "<class 'sklearn.ensemble._forest.RandomForestRegressor'>\n"
     ]
    }
   ],
   "source": [
    "print(type(rf_inflow)) "
   ]
  },
  {
   "cell_type": "code",
   "execution_count": 195,
   "id": "b9976535",
   "metadata": {},
   "outputs": [],
   "source": [
    "# Save the trained models as .pkl files for later use\n",
    "with open('rf_outflow_model.pkl', 'wb') as inflow_model_file6:\n",
    "    pickle.dump(rf_inflow, inflow_model_file6)"
   ]
  },
  {
   "cell_type": "code",
   "execution_count": 196,
   "id": "63ce9ec9",
   "metadata": {},
   "outputs": [
    {
     "name": "stdout",
     "output_type": "stream",
     "text": [
      "<class 'sklearn.ensemble._forest.RandomForestRegressor'>\n"
     ]
    }
   ],
   "source": [
    "print(type(rf_outflow)) "
   ]
  },
  {
   "cell_type": "code",
   "execution_count": null,
   "id": "8c03043f",
   "metadata": {},
   "outputs": [],
   "source": []
  }
 ],
 "metadata": {
  "kernelspec": {
   "display_name": "Python 3 (ipykernel)",
   "language": "python",
   "name": "python3"
  },
  "language_info": {
   "codemirror_mode": {
    "name": "ipython",
    "version": 3
   },
   "file_extension": ".py",
   "mimetype": "text/x-python",
   "name": "python",
   "nbconvert_exporter": "python",
   "pygments_lexer": "ipython3",
   "version": "3.11.5"
  }
 },
 "nbformat": 4,
 "nbformat_minor": 5
}
